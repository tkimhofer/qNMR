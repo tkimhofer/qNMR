{
 "cells": [
  {
   "cell_type": "code",
   "execution_count": 12,
   "metadata": {},
   "outputs": [],
   "source": [
    "# Start: Load functions\n",
    "# make sure the file collateBrukerMt.py is located in the same folder where this script is executed from\n",
    "from collateBrukerMt import collate_Bruker_MetaboliteFits"
   ]
  },
  {
   "cell_type": "code",
   "execution_count": 13,
   "metadata": {},
   "outputs": [],
   "source": [
    "# define directory path of the NMR study folder containing all experiemnts\n",
    "# change this path specifiction\n",
    "path='/Volumes/Torben_2/Ringtest NMR/'"
   ]
  },
  {
   "cell_type": "code",
   "execution_count": 14,
   "metadata": {},
   "outputs": [],
   "source": [
    "# extract the Bruker metabolite fit xml files (urine_quant_report_e_ver_1_0.xml)\n",
    "collate_Bruker_MetaboliteFits(path)"
   ]
  },
  {
   "cell_type": "code",
   "execution_count": null,
   "metadata": {},
   "outputs": [],
   "source": []
  }
 ],
 "metadata": {
  "kernelspec": {
   "display_name": "Python 3",
   "language": "python",
   "name": "python3"
  },
  "language_info": {
   "codemirror_mode": {
    "name": "ipython",
    "version": 3
   },
   "file_extension": ".py",
   "mimetype": "text/x-python",
   "name": "python",
   "nbconvert_exporter": "python",
   "pygments_lexer": "ipython3",
   "version": "3.7.4"
  }
 },
 "nbformat": 4,
 "nbformat_minor": 2
}
